{
 "cells": [
  {
   "cell_type": "code",
   "execution_count": 5,
   "id": "1fe6f76d",
   "metadata": {},
   "outputs": [
    {
     "name": "stdout",
     "output_type": "stream",
     "text": [
      "Q.1. What are keywords in python? Using the keyword library, print all the python keywords.\n",
      "Answer: Keyword in Python are reserved words that can not be used as a variable name, function name, or any other identifier\n"
     ]
    }
   ],
   "source": [
    "print(\"Q.1. What are keywords in python? Using the keyword library, print all the python keywords.\")\n",
    "print(\"Answer: Keyword in Python are reserved words that can not be used as a variable name, function name, or any other identifier\")\n"
   ]
  },
  {
   "cell_type": "code",
   "execution_count": 7,
   "id": "109d4950",
   "metadata": {},
   "outputs": [],
   "source": [
    "import keyword"
   ]
  },
  {
   "cell_type": "code",
   "execution_count": 8,
   "id": "63c2ad60",
   "metadata": {},
   "outputs": [
    {
     "name": "stdout",
     "output_type": "stream",
     "text": [
      "['False', 'None', 'True', 'and', 'as', 'assert', 'async', 'await', 'break', 'class', 'continue', 'def', 'del', 'elif', 'else', 'except', 'finally', 'for', 'from', 'global', 'if', 'import', 'in', 'is', 'lambda', 'nonlocal', 'not', 'or', 'pass', 'raise', 'return', 'try', 'while', 'with', 'yield']\n"
     ]
    }
   ],
   "source": [
    "print(keyword.kwlist)"
   ]
  },
  {
   "cell_type": "code",
   "execution_count": null,
   "id": "5c550f44",
   "metadata": {},
   "outputs": [],
   "source": []
  },
  {
   "cell_type": "code",
   "execution_count": 13,
   "id": "2cab2c6e",
   "metadata": {},
   "outputs": [
    {
     "name": "stdout",
     "output_type": "stream",
     "text": [
      "Q.2. What are the rules to create variables in python?\n",
      "Answer 1] It should Not be Integer\n",
      "It Should Not be any keyword\n",
      "its a very unique lanuage , age , Age Are different Variable\n",
      "its does not contain any symbol or speacial character\n",
      "Only _ can be used\n"
     ]
    }
   ],
   "source": [
    "print(\"Q.2. What are the rules to create variables in python?\")\n",
    "print(\"Answer 1] It should Not be Integer\")\n",
    "print(\"It Should Not be any keyword\")\n",
    "print(\"its a very unique lanuage , age , Age Are different Variable\")\n",
    "print(\"its does not contain any symbol or speacial character\")\n",
    "print(\"Only _ can be used\")"
   ]
  },
  {
   "cell_type": "code",
   "execution_count": null,
   "id": "13f57a1f",
   "metadata": {},
   "outputs": [],
   "source": []
  },
  {
   "cell_type": "code",
   "execution_count": null,
   "id": "2fa3056e",
   "metadata": {},
   "outputs": [],
   "source": []
  },
  {
   "cell_type": "code",
   "execution_count": 15,
   "id": "63ff61f2",
   "metadata": {},
   "outputs": [
    {
     "name": "stdout",
     "output_type": "stream",
     "text": [
      "Q.3. What are the standards and conventions followed for the nomenclature of variables in python to improve code readability and maintainability?\n",
      "use underscore  and small latter word\n"
     ]
    }
   ],
   "source": [
    "print(\"Q.3. What are the standards and conventions followed for the nomenclature of variables in python to improve code readability and maintainability?\")\n",
    "print(\"use underscore  and small latter word\")"
   ]
  },
  {
   "cell_type": "code",
   "execution_count": null,
   "id": "b6bfcf24",
   "metadata": {},
   "outputs": [],
   "source": []
  },
  {
   "cell_type": "code",
   "execution_count": null,
   "id": "64fab898",
   "metadata": {},
   "outputs": [],
   "source": []
  },
  {
   "cell_type": "code",
   "execution_count": 16,
   "id": "bb63e4a5",
   "metadata": {},
   "outputs": [
    {
     "ename": "SyntaxError",
     "evalue": "cannot assign to True (4125885883.py, line 3)",
     "output_type": "error",
     "traceback": [
      "\u001b[1;36m  Input \u001b[1;32mIn [16]\u001b[1;36m\u001b[0m\n\u001b[1;33m    True=89\u001b[0m\n\u001b[1;37m    ^\u001b[0m\n\u001b[1;31mSyntaxError\u001b[0m\u001b[1;31m:\u001b[0m cannot assign to True\n"
     ]
    }
   ],
   "source": [
    "print(\"Q.4. What will happen if a keyword is used as a variable name?\")\n",
    "print(\"Answer\")\n",
    "True=89"
   ]
  },
  {
   "cell_type": "code",
   "execution_count": null,
   "id": "2e054b90",
   "metadata": {},
   "outputs": [],
   "source": []
  },
  {
   "cell_type": "code",
   "execution_count": 17,
   "id": "1cf57dbe",
   "metadata": {},
   "outputs": [
    {
     "name": "stdout",
     "output_type": "stream",
     "text": [
      "Q.5. For what purpose def keyword is used?\n",
      "Its Used for Making Function\n"
     ]
    }
   ],
   "source": [
    "print(\"Q.5. For what purpose def keyword is used?\")\n",
    "print(\"Its Used for Making Function\")"
   ]
  },
  {
   "cell_type": "code",
   "execution_count": null,
   "id": "4ae76fed",
   "metadata": {},
   "outputs": [],
   "source": []
  },
  {
   "cell_type": "code",
   "execution_count": 18,
   "id": "003e927f",
   "metadata": {},
   "outputs": [
    {
     "name": "stdout",
     "output_type": "stream",
     "text": [
      "Q.6. What is the operation of this special character ‘\\’?\n"
     ]
    }
   ],
   "source": [
    "print(\"Q.6. What is the operation of this special character ‘\\’?\")"
   ]
  },
  {
   "cell_type": "code",
   "execution_count": null,
   "id": "d8a3fa96",
   "metadata": {},
   "outputs": [],
   "source": []
  },
  {
   "cell_type": "code",
   "execution_count": 8,
   "id": "1d0f3d9a",
   "metadata": {},
   "outputs": [
    {
     "name": "stdout",
     "output_type": "stream",
     "text": [
      "Q.7. Give an example of the following conditions:\n",
      "(i) Homogeneous list\n",
      "its a list where all element of list consist of same data types\n",
      "Eg a=[1,2,3,4,5]\n",
      "----------------------------------------------\n",
      "(ii) Heterogeneous set\n",
      "Answer its a set Where All Element Of set are of the different data Types\n",
      "Example  a={1,2.3,priyanshu}\n",
      "----------------------------------------------\n",
      "(iii) Homogeneous tuple\n",
      "a tuple which consist of element that have Same DataTypes\n"
     ]
    }
   ],
   "source": [
    "print(\"Q.7. Give an example of the following conditions:\")\n",
    "print(\"(i) Homogeneous list\")\n",
    "print(\"its a list where all element of list consist of same data types\")\n",
    "print(\"Eg a=[1,2,3,4,5]\")\n",
    "print(\"----------------------------------------------\")\n",
    "print(\"(ii) Heterogeneous set\")\n",
    "print(\"Answer its a set Where All Element Of set are of the different data Types\")\n",
    "print(\"Example  a={1,2.3,priyanshu}\")\n",
    "print(\"----------------------------------------------\")\n",
    "print(\"(iii) Homogeneous tuple\")\n",
    "print(\"a tuple which consist of element that have Same DataTypes\")"
   ]
  },
  {
   "cell_type": "code",
   "execution_count": null,
   "id": "9ab41081",
   "metadata": {},
   "outputs": [],
   "source": []
  },
  {
   "cell_type": "code",
   "execution_count": null,
   "id": "902fbc8e",
   "metadata": {},
   "outputs": [],
   "source": []
  },
  {
   "cell_type": "code",
   "execution_count": 10,
   "id": "965618b6",
   "metadata": {},
   "outputs": [
    {
     "name": "stdout",
     "output_type": "stream",
     "text": [
      "Q.8. Explain the mutable and immutable data types with proper explanation & examples.\n",
      "----------------------------Immutable---------------------------------------\n",
      "In a Python There IS two Data Types one mutable and another one Unmutable \n",
      "Which Data Types Cant Be change or alter Thats Called Unmutable\n",
      "Eg , Int , Float , String\n",
      "a=5\n",
      "Here The value Of a cant be change  , any operation will create a new variable\n",
      "-----------------------------Mutable----------------------------------------\n",
      "which VAlue Can BE modify that is a mutable\n",
      "eg List , Dictinary , Set\n"
     ]
    }
   ],
   "source": [
    "print(\"Q.8. Explain the mutable and immutable data types with proper explanation & examples.\")\n",
    "print(\"----------------------------Immutable---------------------------------------\")\n",
    "print(\"In a Python There IS two Data Types one mutable and another one Unmutable \")\n",
    "print(\"Which Data Types Cant Be change or alter Thats Called Unmutable\")\n",
    "print(\"Eg , Int , Float , String\")\n",
    "a=5\n",
    "print(\"a=5\")\n",
    "print(\"Here The value Of a cant be change  , any operation will create a new variable\")\n",
    "print(\"-----------------------------Mutable----------------------------------------\")\n",
    "print(\"which VAlue Can BE modify that is a mutable\")\n",
    "print(\"eg List , Dictinary , Set\")"
   ]
  },
  {
   "cell_type": "code",
   "execution_count": null,
   "id": "f3487362",
   "metadata": {},
   "outputs": [],
   "source": []
  },
  {
   "cell_type": "code",
   "execution_count": null,
   "id": "b30fd97b",
   "metadata": {},
   "outputs": [],
   "source": []
  },
  {
   "cell_type": "code",
   "execution_count": 11,
   "id": "780c1d24",
   "metadata": {},
   "outputs": [
    {
     "name": "stdout",
     "output_type": "stream",
     "text": [
      "Q.9. Write a code to create the given structure using only for loop.\n"
     ]
    }
   ],
   "source": [
    "print(\"Q.9. Write a code to create the given structure using only for loop.\")\n",
    "print(\"*\n",
    "    ***\n",
    "    *****\n",
    "    *******\n",
    "    *********\")"
   ]
  },
  {
   "cell_type": "code",
   "execution_count": 17,
   "id": "070ff2fc",
   "metadata": {},
   "outputs": [
    {
     "name": "stdout",
     "output_type": "stream",
     "text": [
      "*\n",
      "***\n",
      "*****\n",
      "*******\n",
      "*********\n"
     ]
    }
   ],
   "source": [
    "for i in range(1,10,2):\n",
    "    print(i*\"*\")"
   ]
  },
  {
   "cell_type": "code",
   "execution_count": null,
   "id": "14d2a2b2",
   "metadata": {},
   "outputs": [],
   "source": []
  },
  {
   "cell_type": "code",
   "execution_count": null,
   "id": "75163c96",
   "metadata": {},
   "outputs": [],
   "source": []
  },
  {
   "cell_type": "code",
   "execution_count": null,
   "id": "76e04570",
   "metadata": {},
   "outputs": [],
   "source": [
    "Q.10. Write a code to create the given structure using while loop.\n",
    "|||||||||\n",
    "|||||||\n",
    "|||||\n",
    "|||\n",
    "|"
   ]
  },
  {
   "cell_type": "code",
   "execution_count": null,
   "id": "e2b69a35",
   "metadata": {},
   "outputs": [],
   "source": [
    "print(\"Answer\")\n"
   ]
  },
  {
   "cell_type": "code",
   "execution_count": null,
   "id": "0acade30",
   "metadata": {},
   "outputs": [],
   "source": []
  }
 ],
 "metadata": {
  "kernelspec": {
   "display_name": "Python 3 (ipykernel)",
   "language": "python",
   "name": "python3"
  },
  "language_info": {
   "codemirror_mode": {
    "name": "ipython",
    "version": 3
   },
   "file_extension": ".py",
   "mimetype": "text/x-python",
   "name": "python",
   "nbconvert_exporter": "python",
   "pygments_lexer": "ipython3",
   "version": "3.10.5"
  }
 },
 "nbformat": 4,
 "nbformat_minor": 5
}
